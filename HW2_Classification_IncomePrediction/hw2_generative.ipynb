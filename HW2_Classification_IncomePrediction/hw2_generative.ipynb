{
 "cells": [
  {
   "cell_type": "code",
   "execution_count": 1,
   "metadata": {},
   "outputs": [],
   "source": [
    "import numpy as np\n",
    "import sys\n",
    "import csv  \n",
    "from numpy.linalg import inv"
   ]
  },
  {
   "cell_type": "code",
   "execution_count": null,
   "metadata": {},
   "outputs": [],
   "source": [
    "class data_manager():\n",
    "    def __init__(self):\n",
    "        self.data = {}  \n",
    "    \n",
    "    def read(self,name,path):\n",
    "        with open(path,newline = '') as csvfile:\n",
    "            rows = np.array(list(csv.reader(csvfile))[1:] ,dtype = float)  \n",
    "            self.mean = np.mean(rows,axis = 0).reshape(1,-1)\n",
    "            self.std = np.std(rows,axis = 0).reshape(1,-1)\n",
    "            self.theta = np.ones((rows.shape[1] + 1,1),dtype = float) \n",
    "            if name == 'X_train':\n",
    "                for i in range(rows.shape[0]):\n",
    "                    rows[i,:] = (rows[i,:] - self.mean) / self.std  \n",
    "\n",
    "            elif name == 'X_test': \n",
    "                for i in range(rows.shape[0]):\n",
    "                    rows[i,:] = (rows[i,:] - self.mean) / self.std \n",
    "\n",
    "            self.data[name] = rows  \n",
    "\n",
    "    def find_theta(self):\n",
    "        class_0_id = []\n",
    "        class_1_id = []\n",
    "        for i in range(self.data['Y_train'].shape[0]):\n",
    "            if self.data['Y_train'][i][0] == 0:\n",
    "                class_0_id.append(i)\n",
    "            else:\n",
    "                class_1_id.append(i)\n",
    "\n",
    "        class_0 = self.data['X_train'][class_0_id]\n",
    "        class_1 = self.data['X_train'][class_1_id] \n",
    "\n",
    "        mean_0 = np.mean(class_0,axis = 0)\n",
    "        mean_1 = np.mean(class_1,axis = 0)  \n",
    "\n",
    "        n = class_0.shape[1]\n",
    "        cov_0 = np.zeros((n,n))\n",
    "        cov_1 = np.zeros((n,n))\n",
    "        \n",
    "        for i in range(class_0.shape[0]):\n",
    "            cov_0 += np.dot(np.transpose([class_0[i] - mean_0]), [(class_0[i] - mean_0)]) / class_0.shape[0]\n",
    "\n",
    "        for i in range(class_1.shape[0]):\n",
    "            cov_1 += np.dot(np.transpose([class_1[i] - mean_1]), [(class_1[i] - mean_1)]) / class_1.shape[0]\n",
    "\n",
    "        cov = (cov_0*class_0.shape[0] + cov_1*class_1.shape[0]) / (class_0.shape[0] + class_1.shape[0])\n",
    " \n",
    "        self.w = np.transpose(((mean_0 - mean_1)).dot(inv(cov)) )\n",
    "        self.b =  (- 0.5)* (mean_0).dot(inv(cov)).dot(mean_0)\\\n",
    "            + 0.5 * (mean_1).dot(inv(cov)).dot(mean_1)\\\n",
    "            + np.log(float(class_0.shape[0]) / class_1.shape[0]) \n",
    "\n",
    "        result = self.func(self.data['X_train'])\n",
    "        answer = self.predict(result)\n",
    "\n",
    "\n",
    "    def func(self,x):\n",
    "        arr = np.empty([x.shape[0],1],dtype=float)\n",
    "        for i in range(x.shape[0]):\n",
    "            z = x[i,:].dot(self.w) + self.b\n",
    "            z *= (-1)\n",
    "            arr[i][0] = 1 / (1 + np.exp(z))\n",
    "        return np.clip(arr, 1e-8, 1-(1e-8))\n",
    "\n",
    "    def predict(self,x):\n",
    "        ans = np.ones([x.shape[0],1],dtype=int)\n",
    "        for i in range(x.shape[0]):\n",
    "            if x[i] > 0.5:\n",
    "                ans[i] = 0; \n",
    "        return ans\n",
    "\n",
    "    def write_file(self,path):\n",
    "        result = self.func(self.data['X_test'])\n",
    "        answer = self.predict(result)\n",
    "        with open(path, 'w', newline='') as csvfile:\n",
    "            writer = csv.writer(csvfile) \n",
    "            writer.writerow(['id','label']) \n",
    "            for i in range(answer.shape[0]):\n",
    "                writer.writerow([i+1,answer[i][0]])"
   ]
  },
  {
   "cell_type": "code",
   "execution_count": null,
   "metadata": {},
   "outputs": [],
   "source": [
    "dm = data_manager()\n"
   ]
  },
  {
   "cell_type": "code",
   "execution_count": null,
   "metadata": {},
   "outputs": [],
   "source": [
    "dm.read('Y_train','./Y_train')\n",
    "dm.read('X_test','./X_test')"
   ]
  },
  {
   "cell_type": "code",
   "execution_count": null,
   "metadata": {},
   "outputs": [],
   "source": [
    "dm.find_theta()\n"
   ]
  },
  {
   "cell_type": "code",
   "execution_count": null,
   "metadata": {},
   "outputs": [],
   "source": [
    "dm.write_file('output_generative.csv')\n"
   ]
  }
 ],
 "metadata": {
  "kernelspec": {
   "display_name": "Python 3",
   "language": "python",
   "name": "python3"
  },
  "language_info": {
   "codemirror_mode": {
    "name": "ipython",
    "version": 3
   },
   "file_extension": ".py",
   "mimetype": "text/x-python",
   "name": "python",
   "nbconvert_exporter": "python",
   "pygments_lexer": "ipython3",
   "version": "3.6.8"
  },
  "toc": {
   "base_numbering": 1,
   "nav_menu": {},
   "number_sections": true,
   "sideBar": true,
   "skip_h1_title": false,
   "title_cell": "Table of Contents",
   "title_sidebar": "Contents",
   "toc_cell": false,
   "toc_position": {},
   "toc_section_display": true,
   "toc_window_display": false
  },
  "varInspector": {
   "cols": {
    "lenName": 16,
    "lenType": 16,
    "lenVar": 40
   },
   "kernels_config": {
    "python": {
     "delete_cmd_postfix": "",
     "delete_cmd_prefix": "del ",
     "library": "var_list.py",
     "varRefreshCmd": "print(var_dic_list())"
    },
    "r": {
     "delete_cmd_postfix": ") ",
     "delete_cmd_prefix": "rm(",
     "library": "var_list.r",
     "varRefreshCmd": "cat(var_dic_list()) "
    }
   },
   "types_to_exclude": [
    "module",
    "function",
    "builtin_function_or_method",
    "instance",
    "_Feature"
   ],
   "window_display": false
  }
 },
 "nbformat": 4,
 "nbformat_minor": 2
}

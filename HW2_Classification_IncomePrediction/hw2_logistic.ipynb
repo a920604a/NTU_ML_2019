{
 "cells": [
  {
   "cell_type": "code",
   "execution_count": 38,
   "metadata": {},
   "outputs": [],
   "source": [
    "import numpy as np\n",
    "import pandas as pd\n",
    "X_train_fpath = './X_train'\n",
    "Y_train_fpath = './Y_train'\n",
    "X_test_fpath = './X_test'\n",
    "output_fpath = 'output_logistic.csv'\n",
    "X_train = np.genfromtxt(X_train_fpath, delimiter=',', skip_header=1)\n",
    "Y_train = np.genfromtxt(Y_train_fpath, delimiter=',', skip_header=1)"
   ]
  },
  {
   "cell_type": "code",
   "execution_count": 39,
   "metadata": {},
   "outputs": [
    {
     "data": {
      "text/plain": [
       "((32561, 106), (32561,))"
      ]
     },
     "execution_count": 39,
     "metadata": {},
     "output_type": "execute_result"
    }
   ],
   "source": [
    "X_train.shape ,Y_train.shape"
   ]
  },
  {
   "cell_type": "code",
   "execution_count": 40,
   "metadata": {},
   "outputs": [
    {
     "data": {
      "text/plain": [
       "array([[3.90000e+01, 7.75160e+04, 1.00000e+00, ..., 0.00000e+00,\n",
       "        0.00000e+00, 0.00000e+00],\n",
       "       [5.00000e+01, 8.33110e+04, 1.00000e+00, ..., 0.00000e+00,\n",
       "        0.00000e+00, 0.00000e+00],\n",
       "       [3.80000e+01, 2.15646e+05, 1.00000e+00, ..., 0.00000e+00,\n",
       "        0.00000e+00, 0.00000e+00],\n",
       "       ...,\n",
       "       [5.80000e+01, 1.51910e+05, 0.00000e+00, ..., 0.00000e+00,\n",
       "        0.00000e+00, 0.00000e+00],\n",
       "       [2.20000e+01, 2.01490e+05, 1.00000e+00, ..., 0.00000e+00,\n",
       "        0.00000e+00, 0.00000e+00],\n",
       "       [5.20000e+01, 2.87927e+05, 0.00000e+00, ..., 0.00000e+00,\n",
       "        0.00000e+00, 0.00000e+00]])"
      ]
     },
     "execution_count": 40,
     "metadata": {},
     "output_type": "execute_result"
    }
   ],
   "source": [
    "X_train"
   ]
  },
  {
   "cell_type": "code",
   "execution_count": 41,
   "metadata": {},
   "outputs": [
    {
     "data": {
      "text/plain": [
       "array([0., 0., 0., ..., 0., 0., 1.])"
      ]
     },
     "execution_count": 41,
     "metadata": {},
     "output_type": "execute_result"
    }
   ],
   "source": [
    "Y_train"
   ]
  },
  {
   "cell_type": "code",
   "execution_count": 42,
   "metadata": {},
   "outputs": [],
   "source": [
    "def _normalize_column_0_1(X, train=True, specified_column = None, X_min = None, X_max=None):\n",
    "    # The output of the function will make the specified column of the training data \n",
    "    # from 0 to 1\n",
    "    # When processing testing data, we need to normalize by the value \n",
    "    # we used for processing training, so we must save the max value of the \n",
    "    # training data\n",
    "    if train:\n",
    "        if specified_column == None:\n",
    "            specified_column = np.arange(X.shape[1])\n",
    "        length = len(specified_column)\n",
    "        X_max = np.reshape(np.max(X[:, specified_column], 0), (1, length))\n",
    "        X_min = np.reshape(np.min(X[:, specified_column], 0), (1, length))\n",
    "        \n",
    "    X[:, specified_column] = np.divide(np.subtract(X[:, specified_column], X_min), np.subtract(X_max, X_min))\n",
    "\n",
    "    return X, X_max, X_min\n",
    "\n",
    "def _normalize_column_normal(X, train=True, specified_column = None, X_mean=None, X_std=None):\n",
    "    # The output of the function will make the specified column number to \n",
    "    # become a Normal distribution\n",
    "    # When processing testing data, we need to normalize by the value \n",
    "    # we used for processing training, so we must save the mean value and \n",
    "    # the variance of the training data\n",
    "    if train:\n",
    "        if specified_column == None:\n",
    "            specified_column = np.arange(X.shape[1])\n",
    "        length = len(specified_column)\n",
    "        X_mean = np.reshape(np.mean(X[:, specified_column],0), (1, length))\n",
    "        X_std  = np.reshape(np.std(X[:, specified_column], 0), (1, length))\n",
    "    \n",
    "    X[:,specified_column] = np.divide(np.subtract(X[:,specified_column],X_mean), X_std)\n",
    "     \n",
    "    return X, X_mean, X_std\n",
    "\n",
    "\n",
    "def _shuffle(X, Y):\n",
    "    randomize = np.arange(len(X))\n",
    "    np.random.shuffle(randomize)\n",
    "    return (X[randomize], Y[randomize])\n",
    "    \n",
    "def train_dev_split(X, y, dev_size=0.25):\n",
    "    train_len = int(round(len(X)*(1-dev_size)))\n",
    "    return X[0:train_len], y[0:train_len], X[train_len:None], y[train_len:None]"
   ]
  },
  {
   "cell_type": "code",
   "execution_count": 43,
   "metadata": {},
   "outputs": [],
   "source": [
    "def _sigmoid(z):\n",
    "    # sigmoid function can be used to output probability\n",
    "    return np.clip(1 / (1.0 + np.exp(-z)), 1e-6, 1-1e-6)\n",
    "\n",
    "def get_prob(X, w, b):\n",
    "    # the probability to output 1\n",
    "    return _sigmoid(np.add(np.matmul(X, w), b))\n",
    "\n",
    "def infer(X, w, b):\n",
    "    # use round to infer the result\n",
    "    return np.round(get_prob(X, w, b))\n",
    "\n",
    "def _cross_entropy(y_pred, Y_label):\n",
    "    # compute the cross entropy\n",
    "    cross_entropy = -np.dot(Y_label, np.log(y_pred))-np.dot((1-Y_label), np.log(1-y_pred))\n",
    "    return cross_entropy\n",
    "\n",
    "def _gradient(X, Y_label, w, b):\n",
    "    # return the mean of the graident\n",
    "    y_pred = get_prob(X, w, b)\n",
    "    pred_error = Y_label - y_pred\n",
    "    w_grad = -np.mean(np.multiply(pred_error.T, X.T), 1)\n",
    "    b_grad = -np.mean(pred_error)\n",
    "    return w_grad, b_grad\n",
    "\n",
    "def _gradient_regularization(X, Y_label, w, b, lamda):\n",
    "    # return the mean of the graident\n",
    "    y_pred = get_prob(X, w, b)\n",
    "    pred_error = Y_label - y_pred\n",
    "    w_grad = -np.mean(np.multiply(pred_error.T, X.T), 1)+lamda*w\n",
    "    b_grad = -np.mean(pred_error)\n",
    "    return w_grad, b_grad\n",
    "\n",
    "def _loss(y_pred, Y_label, lamda, w):\n",
    "    return _cross_entropy(y_pred, Y_label) + lamda * np.sum(np.square(w))\n",
    "def accuracy(Y_pred, Y_label):\n",
    "    acc = np.sum(Y_pred == Y_label)/len(Y_pred)\n",
    "    return acc\n"
   ]
  },
  {
   "cell_type": "code",
   "execution_count": 44,
   "metadata": {},
   "outputs": [],
   "source": [
    "def train(X_train, Y_train):\n",
    "    # split a validation set\n",
    "    dev_size = 0.1155\n",
    "    X_train, Y_train, X_dev, Y_dev = train_dev_split(X_train, Y_train, dev_size = dev_size)\n",
    "    \n",
    "    # Use 0 + 0*x1 + 0*x2 + ... for weight initialization\n",
    "    w = np.zeros((X_train.shape[1],)) \n",
    "    b = np.zeros((1,))\n",
    "\n",
    "    regularize = True\n",
    "    if regularize:\n",
    "        lamda = 0.001\n",
    "    else:\n",
    "        lamda = 0\n",
    "    \n",
    "    max_iter = 40  # max iteration number\n",
    "    batch_size = 32 # number to feed in the model for average to avoid bias\n",
    "    learning_rate = 0.2  # how much the model learn for each step\n",
    "    num_train = len(Y_train)\n",
    "    num_dev = len(Y_dev)\n",
    "    step =1\n",
    "\n",
    "    loss_train = []\n",
    "    loss_validation = []\n",
    "    train_acc = []\n",
    "    dev_acc = []\n",
    "    \n",
    "    for epoch in range(max_iter):\n",
    "        # Random shuffle for each epoch\n",
    "        X_train, Y_train = _shuffle(X_train, Y_train)\n",
    "        \n",
    "        total_loss = 0.0\n",
    "        # Logistic regression train with batch\n",
    "        for idx in range(int(np.floor(len(Y_train)/batch_size))):\n",
    "            X = X_train[idx*batch_size:(idx+1)*batch_size]\n",
    "            Y = Y_train[idx*batch_size:(idx+1)*batch_size]\n",
    "            \n",
    "            # Find out the gradient of the loss\n",
    "            #w_grad, b_grad = _gradient_regularization(X, Y, w, b, lamda)\n",
    "            w_grad, b_grad = _gradient(X, Y, w, b)\n",
    "            \n",
    "            # gradient descent update\n",
    "            # learning rate decay with time\n",
    "            w = w - learning_rate/np.sqrt(step) * w_grad\n",
    "            b = b - learning_rate/np.sqrt(step) * b_grad\n",
    "            \n",
    "            step = step+1\n",
    "            \n",
    "        # Compute the loss and the accuracy of the training set and the validation set\n",
    "        y_train_pred = get_prob(X_train, w, b)\n",
    "        Y_train_pred = np.round(y_train_pred)\n",
    "        train_acc.append(accuracy(Y_train_pred, Y_train))\n",
    "        loss_train.append(_loss(y_train_pred, Y_train, lamda, w)/num_train)\n",
    "        \n",
    "        y_dev_pred = get_prob(X_dev, w, b)\n",
    "        Y_dev_pred = np.round(y_dev_pred)\n",
    "        dev_acc.append(accuracy(Y_dev_pred, Y_dev))\n",
    "        loss_validation.append(_loss(y_dev_pred, Y_dev, lamda, w)/num_dev)\n",
    "    \n",
    "    return w, b, loss_train, loss_validation, train_acc, dev_acc  # return loss for plotting"
   ]
  },
  {
   "cell_type": "code",
   "execution_count": 45,
   "metadata": {},
   "outputs": [],
   "source": [
    "import matplotlib.pyplot as plt\n",
    "%matplotlib inline"
   ]
  },
  {
   "cell_type": "code",
   "execution_count": 46,
   "metadata": {},
   "outputs": [],
   "source": [
    "# return loss is to plot the result\n",
    "col = [0,1,3,4,5,7,10,12,25,26,27,28]\n",
    "X_train, X_mean, X_std = _normalize_column_normal(X_train, specified_column=col)\n",
    "w, b, loss_train, loss_validation, train_acc, dev_acc= train(X_train, Y_train)"
   ]
  },
  {
   "cell_type": "code",
   "execution_count": 47,
   "metadata": {},
   "outputs": [
    {
     "data": {
      "image/png": "[encoded data removed]",
      "text/plain": [
       "<Figure size 432x288 with 1 Axes>"
      ]
     },
     "metadata": {
      "needs_background": "light"
     },
     "output_type": "display_data"
    },
    {
     "data": {
      "image/png": "[encoded data removed]",
      "text/plain": [
       "<Figure size 432x288 with 1 Axes>"
      ]
     },
     "metadata": {
      "needs_background": "light"
     },
     "output_type": "display_data"
    }
   ],
   "source": [
    "plt.plot(loss_train)\n",
    "plt.plot(loss_validation)\n",
    "plt.legend(['train', 'dev'])\n",
    "plt.show()\n",
    "plt.plot(train_acc)\n",
    "plt.plot(dev_acc)\n",
    "plt.legend(['train', 'dev'])\n",
    "plt.show()"
   ]
  },
  {
   "cell_type": "code",
   "execution_count": 48,
   "metadata": {},
   "outputs": [],
   "source": [
    "X_test = np.genfromtxt(X_test_fpath, delimiter=',', skip_header=1)\n",
    "# Do the same data process to the test data\n",
    "X_test, _, _= _normalize_column_normal(X_test, train=False, specified_column = col, X_mean=X_mean, X_std=X_std)"
   ]
  },
  {
   "cell_type": "code",
   "execution_count": 49,
   "metadata": {},
   "outputs": [],
   "source": [
    "result = infer(X_test, w, b)\n"
   ]
  },
  {
   "cell_type": "code",
   "execution_count": 50,
   "metadata": {},
   "outputs": [],
   "source": [
    "with open(output_fpath, 'w') as f:\n",
    "        f.write('id,label\\n')\n",
    "        for i, v in  enumerate(result):\n",
    "            f.write('%d,%d\\n' %(i+1, v))"
   ]
  },
  {
   "cell_type": "code",
   "execution_count": 51,
   "metadata": {},
   "outputs": [
    {
     "name": "stdout",
     "output_type": "stream",
     "text": [
      "capital_gain 1.3211947224784186\n",
      " Never-married -0.8113834031218152\n",
      " Married-civ-spouse 0.7231730973302497\n",
      " Bachelors 0.588299174415565\n",
      " Own-child -0.5658239661661122\n",
      " Other-service -0.507541212944714\n",
      " Exec-managerial 0.5044929642620795\n",
      " Unmarried -0.5010477535159267\n",
      " Not-in-family -0.4446996325830085\n",
      " Wife 0.41757607562979526\n"
     ]
    }
   ],
   "source": [
    "ind = np.argsort(np.abs(w))[::-1]\n",
    "with open(X_test_fpath) as f:\n",
    "    content = f.readline().rstrip('\\n')\n",
    "features = np.array([x for x in content.split(',')])\n",
    "for i in ind[0:10]:\n",
    "    print(features[i], w[i])"
   ]
  },
  {
   "cell_type": "code",
   "execution_count": null,
   "metadata": {},
   "outputs": [],
   "source": []
  }
 ],
 "metadata": {
  "kernelspec": {
   "display_name": "Python 3",
   "language": "python",
   "name": "python3"
  },
  "language_info": {
   "codemirror_mode": {
    "name": "ipython",
    "version": 3
   },
   "file_extension": ".py",
   "mimetype": "text/x-python",
   "name": "python",
   "nbconvert_exporter": "python",
   "pygments_lexer": "ipython3",
   "version": "3.6.8"
  },
  "toc": {
   "base_numbering": 1,
   "nav_menu": {},
   "number_sections": true,
   "sideBar": true,
   "skip_h1_title": false,
   "title_cell": "Table of Contents",
   "title_sidebar": "Contents",
   "toc_cell": false,
   "toc_position": {},
   "toc_section_display": true,
   "toc_window_display": false
  },
  "varInspector": {
   "cols": {
    "lenName": 16,
    "lenType": 16,
    "lenVar": 40
   },
   "kernels_config": {
    "python": {
     "delete_cmd_postfix": "",
     "delete_cmd_prefix": "del ",
     "library": "var_list.py",
     "varRefreshCmd": "print(var_dic_list())"
    },
    "r": {
     "delete_cmd_postfix": ") ",
     "delete_cmd_prefix": "rm(",
     "library": "var_list.r",
     "varRefreshCmd": "cat(var_dic_list()) "
    }
   },
   "types_to_exclude": [
    "module",
    "function",
    "builtin_function_or_method",
    "instance",
    "_Feature"
   ],
   "window_display": false
  }
 },
 "nbformat": 4,
 "nbformat_minor": 2
}
